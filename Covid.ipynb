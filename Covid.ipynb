{
  "nbformat": 4,
  "nbformat_minor": 0,
  "metadata": {
    "colab": {
      "name": "Covid.ipynb",
      "provenance": [],
      "collapsed_sections": [],
      "authorship_tag": "ABX9TyNXTtQeZJivpyXUURGwx5lI",
      "include_colab_link": true
    },
    "kernelspec": {
      "name": "python3",
      "display_name": "Python 3"
    }
  },
  "cells": [
    {
      "cell_type": "markdown",
      "metadata": {
        "id": "view-in-github",
        "colab_type": "text"
      },
      "source": [
        "<a href=\"https://colab.research.google.com/github/trovatore/covid/blob/master/Covid.ipynb\" target=\"_parent\"><img src=\"https://colab.research.google.com/assets/colab-badge.svg\" alt=\"Open In Colab\"/></a>"
      ]
    },
    {
      "cell_type": "code",
      "metadata": {
        "id": "ePDrbEE_n8YZ",
        "colab_type": "code",
        "colab": {}
      },
      "source": [
        "from google.colab import files\n",
        "import pandas as pd\n",
        "import numpy as np\n",
        "import sys\n",
        "import io\n",
        "from datetime import datetime, timedelta\n",
        "import pytz\n",
        "import matplotlib.pyplot as plt\n",
        "from matplotlib.ticker import ScalarFormatter\n",
        "import matplotlib.patches as mpatches\n",
        "from sklearn.linear_model import LinearRegression\n",
        "# sys.version\n"
      ],
      "execution_count": 0,
      "outputs": []
    },
    {
      "cell_type": "code",
      "metadata": {
        "id": "PbL1sCvDUpMz",
        "colab_type": "code",
        "colab": {}
      },
      "source": [
        "def date_to_ordinal(date):\n",
        "  return datetime.strptime(date, '%Y-%m-%d').toordinal()\n",
        "\n",
        "def dates_to_elapsed_days(dates, zero_date):\n",
        "  zero_ordinal = date_to_ordinal(zero_date)\n",
        "  return np.array([date_to_ordinal(date) - zero_ordinal for date in dates])\n",
        "\n",
        "def find_fips_for_county(data, county, state):\n",
        "  records = data.to_dict(orient='records')\n",
        "  for record in records:\n",
        "    if record['county'] == county and record['state'] == state:\n",
        "      return int(record['fips'])\n",
        "\n",
        "def find_fips_for_state(data, state):\n",
        "  records = data.to_dict(orient='records')\n",
        "  for record in records:\n",
        "    if record['state'] == state:\n",
        "      return int(record['fips'])\n"
      ],
      "execution_count": 0,
      "outputs": []
    },
    {
      "cell_type": "code",
      "metadata": {
        "id": "oRt118NR3LEg",
        "colab_type": "code",
        "colab": {}
      },
      "source": [
        "def _do_regression(elapsed_days, data_for_place, mask, ax, color, value_name):\n",
        "  x = elapsed_days[mask].reshape(-1, 1)\n",
        "  y = data_for_place[value_name].values[mask].reshape(-1, 1)\n",
        "  lr = LinearRegression()\n",
        "  lr.fit(x, np.log2(y))\n",
        "  y_pred = lr.predict(x)\n",
        "  ax.plot(x, np.exp(np.log(2) * y_pred), color + \"-\")\n",
        "  return 1./lr.coef_[0][0]\n"
      ],
      "execution_count": 0,
      "outputs": []
    },
    {
      "cell_type": "code",
      "metadata": {
        "id": "adR2k3tKEtji",
        "colab_type": "code",
        "colab": {}
      },
      "source": [
        "regression_num_days = 5  #@param\n"
      ],
      "execution_count": 0,
      "outputs": []
    },
    {
      "cell_type": "code",
      "metadata": {
        "id": "Xok_IxEvUvyJ",
        "colab_type": "code",
        "colab": {}
      },
      "source": [
        "def plot_place(data_for_place, title, lockdown_date, regression_interval=None):\n",
        "  \"\"\"\n",
        "  Args:\n",
        "    data_for_place: DataSeries with data for the particular place.\n",
        "    title: Title for the plot.\n",
        "    lockdown_date: YYYY-MM-DD string with date of shelter-in-place order.\n",
        "    regression_interval: List of two dates giving the interval to run\n",
        "      linear regression.\n",
        "  \"\"\"\n",
        "  fig = plt.figure(figsize=(15, 10))\n",
        "  ax = fig.add_subplot(111)\n",
        "  elapsed_days = dates_to_elapsed_days(data_for_place['date'], lockdown_date)\n",
        "  line_cases = plt.plot(elapsed_days, data_for_place['cases'], 'bo')\n",
        "  line_deaths = plt.plot(elapsed_days, data_for_place['deaths'], 'ro')\n",
        "\n",
        "  if regression_interval is None:\n",
        "    end_date = max(data_for_place['date'])\n",
        "    start_date = (datetime.strptime(end_date, '%Y-%m-%d')\n",
        "                 - timedelta(\n",
        "                     days=regression_num_days - 1)).strftime('%Y-%m-%d')\n",
        "    regression_interval = [start_date, end_date]\n",
        "\n",
        "  title = ( \n",
        "      title + \" (curve fit from \" + regression_interval[0] + \" to \" +\n",
        "      regression_interval[1] + \")\"\n",
        "  )\n",
        "  regression_interval = dates_to_elapsed_days(regression_interval,\n",
        "                                              lockdown_date)\n",
        "  start_day = regression_interval[0]\n",
        "  end_day = regression_interval[1]\n",
        "  mask = (elapsed_days >= start_day) & (elapsed_days <= end_day)\n",
        "  cases_doubling_time = _do_regression(elapsed_days, data_for_place, mask,\n",
        "                                        ax, 'b', 'cases' )\n",
        "  deaths_doubling_time = _do_regression(elapsed_days, data_for_place, mask,\n",
        "                                        ax, 'r', 'deaths' )\n",
        "    \n",
        "  ax.set_ylabel('log scale')\n",
        "  ax.set_xlabel('days since shelter-in-place')\n",
        "  ax.set_yscale('log')\n",
        "  ax.yaxis.set_major_formatter(ScalarFormatter())\n",
        "  ax.set_title(title)\n",
        "  if regression_interval is not None:\n",
        "    cases_label = 'cases (doubling time={:0.1f} days)'.format(cases_doubling_time)\n",
        "    deaths_label = 'deaths (doubling time={:0.1f} days)'.format(deaths_doubling_time)\n",
        "  else:\n",
        "    cases_label = 'cases'\n",
        "    deaths_label = 'deaths'\n",
        "  cases_patch = mpatches.Patch(color='blue', label=cases_label)\n",
        "  deaths_patch = mpatches.Patch(color='red', label=deaths_label)\n",
        "  ax.legend(handles=[cases_patch, deaths_patch])\n",
        "  plt.grid()  "
      ],
      "execution_count": 0,
      "outputs": []
    },
    {
      "cell_type": "code",
      "metadata": {
        "id": "QFakGrvEhD2G",
        "colab_type": "code",
        "colab": {}
      },
      "source": [
        "def plot_daily_new(data_for_place, title, lockdown_date):\n",
        "  \"\"\"\n",
        "  Args:\n",
        "    data_for_place: DataSeries with data for the particular place.\n",
        "    title: Title for the plot.\n",
        "    lockdown_date: YYYY-MM-DD string with date of shelter-in-place order.\n",
        "    regression_interval: List of two dates giving the interval to run\n",
        "      linear regression.\n",
        "  \"\"\"\n",
        "  fig = plt.figure(figsize=(15, 10))\n",
        "  ax = fig.add_subplot(111)\n",
        "  elapsed_days = dates_to_elapsed_days(data_for_place['date'], lockdown_date)\n",
        "  assert (elapsed_days == sorted(elapsed_days)).all()\n",
        "  assert elapsed_days[-1] - elapsed_days[0] + 1 == len(elapsed_days)\n",
        "  line_cases = plt.plot(\n",
        "      elapsed_days, np.diff(data_for_place['cases'], prepend=0), 'bo')\n",
        "  line_deaths = plt.plot(\n",
        "      elapsed_days, np.diff(data_for_place['deaths'], prepend=0), 'ro')\n",
        "    \n",
        "  ax.set_ylabel('log scale')\n",
        "  ax.set_xlabel('days since shelter-in-place')\n",
        "  ax.set_yscale('log')\n",
        "  ax.yaxis.set_major_formatter(ScalarFormatter())\n",
        "  ax.set_title(title)\n",
        "  cases_label = 'New cases'\n",
        "  deaths_label = 'New deaths'\n",
        "  cases_patch = mpatches.Patch(color='blue', label=cases_label)\n",
        "  deaths_patch = mpatches.Patch(color='red', label=deaths_label)\n",
        "  ax.legend(handles=[cases_patch, deaths_patch])\n",
        "  plt.grid()  "
      ],
      "execution_count": 0,
      "outputs": []
    },
    {
      "cell_type": "code",
      "metadata": {
        "id": "2MzZZpBlMDi6",
        "colab_type": "code",
        "colab": {}
      },
      "source": [
        "def _get_new_and_intercept(events):\n",
        "  events_new = np.diff(events, prepend=0)\n",
        "  mask = (events_new > 0)\n",
        "  events_new_censored = events_new[mask]\n",
        "  events_censored = events[mask]\n",
        "  log_10_intercept = np.mean(np.log10(events_new_censored) -\n",
        "                             np.log10(events_censored))\n",
        "  return events_new, 10. ** log_10_intercept\n"
      ],
      "execution_count": 0,
      "outputs": []
    },
    {
      "cell_type": "code",
      "metadata": {
        "colab_type": "code",
        "id": "-8ySoPfwjYLX",
        "colab": {}
      },
      "source": [
        "def plot_new_versus_cumulative(data_for_place, title, lockdown_date):\n",
        "  \"\"\"\n",
        "  Args:\n",
        "    data_for_place: DataSeries with data for the particular place.\n",
        "    title: Title for the plot.\n",
        "    lockdown_date: YYYY-MM-DD string with date of shelter-in-place order.\n",
        "    regression_interval: List of two dates giving the interval to run\n",
        "      linear regression.\n",
        "  \"\"\"\n",
        "  fig = plt.figure(figsize=(15, 10))\n",
        "  ax = fig.add_subplot(111)\n",
        "  cases = data_for_place['cases']\n",
        "  deaths = data_for_place['deaths']\n",
        "  cases_new, cases_intercept = _get_new_and_intercept(data_for_place['cases'])\n",
        "  deaths_new, deaths_intercept = _get_new_and_intercept(\n",
        "      data_for_place['deaths'])\n",
        "  line_cases = plt.plot(cases, cases_new, 'bo')\n",
        "  line_deaths = plt.plot(deaths, deaths_new, 'ro')\n",
        "\n",
        "  cases_above_10 = cases[cases >= 10]\n",
        "  plt.plot(cases_above_10, cases_above_10 * cases_intercept, 'b--')\n",
        "  deaths_above_10 = deaths[deaths >= 10]\n",
        "  plt.plot(deaths_above_10, deaths_above_10 * deaths_intercept, 'r--')\n",
        "    \n",
        "  ax.set_ylabel('new')\n",
        "  ax.set_xlabel('cumulative')\n",
        "  ax.set_yscale('log')\n",
        "  ax.set_xscale('log')\n",
        "  ax.xaxis.set_major_formatter(ScalarFormatter())\n",
        "  ax.yaxis.set_major_formatter(ScalarFormatter())\n",
        "  ax.set_title(title)\n",
        "  cases_label = 'cases'\n",
        "  deaths_label = 'deaths'\n",
        "  cases_patch = mpatches.Patch(color='blue', label=cases_label)\n",
        "  deaths_patch = mpatches.Patch(color='red', label=deaths_label)\n",
        "  ax.legend(handles=[cases_patch, deaths_patch])\n",
        "  ax.set_aspect('equal')\n",
        "  plt.grid()  "
      ],
      "execution_count": 0,
      "outputs": []
    },
    {
      "cell_type": "code",
      "metadata": {
        "id": "SiMsKiCeU1pJ",
        "colab_type": "code",
        "colab": {}
      },
      "source": [
        "def plot_county(data, county, state, lockdown_date,\n",
        "                regression_interval=None):\n",
        "  fips = find_fips_for_county(data, county, state)\n",
        "  data_county = data[data['fips']==fips]\n",
        "  title = (\n",
        "      '{} County, {}'.format(data_county['county'].tolist()[0],\n",
        "                             data_county['state'].tolist()[0])\n",
        "  )\n",
        "  plot_place(data_county, title, lockdown_date, regression_interval)\n",
        "  plot_daily_new(data_county, title, lockdown_date)\n",
        "  plot_new_versus_cumulative(data_county, title, lockdown_date)\n"
      ],
      "execution_count": 0,
      "outputs": []
    },
    {
      "cell_type": "code",
      "metadata": {
        "id": "UEozcjUynb55",
        "colab_type": "code",
        "colab": {}
      },
      "source": [
        "def plot_state(data, state, lockdown_date,\n",
        "               regression_interval=None):\n",
        "  fips = find_fips_for_state(data, state)\n",
        "  data_state = data[data['fips']==fips]\n",
        "  title = 'State of {}'.format(data_state['state'].tolist()[0])\n",
        "  plot_place(data_state, title, lockdown_date, regression_interval)\n",
        "  plot_daily_new(data_state, title, lockdown_date)\n",
        "  plot_new_versus_cumulative(data_state, title, lockdown_date)"
      ],
      "execution_count": 0,
      "outputs": []
    },
    {
      "cell_type": "code",
      "metadata": {
        "id": "O4PmesTbdJnz",
        "colab_type": "code",
        "colab": {}
      },
      "source": [
        "#@title Flags for what to load\n",
        "\n",
        "load_nyt = True  #@param\n",
        "load_jhu = True  #@param"
      ],
      "execution_count": 0,
      "outputs": []
    },
    {
      "cell_type": "markdown",
      "metadata": {
        "id": "MiDme4-RoaeF",
        "colab_type": "text"
      },
      "source": [
        "**Upload  NYT files**\n",
        "\n",
        "To use NYT data, download `us-states.csv` and `us-counties.csv` from https://github.com/nytimes/covid-19-data and upload them here.\n"
      ]
    },
    {
      "cell_type": "code",
      "metadata": {
        "id": "2RGnljs1pm5S",
        "colab_type": "code",
        "colab": {}
      },
      "source": [
        "if load_nyt:\n",
        "  nytfiles = files.upload()"
      ],
      "execution_count": 0,
      "outputs": []
    },
    {
      "cell_type": "code",
      "metadata": {
        "id": "2xbvGdUcp8lq",
        "colab_type": "code",
        "colab": {}
      },
      "source": [
        "us_counties_csv_nyt = None\n",
        "us_states_csv_nyt = None\n",
        "counties_name = 'us-counties.csv'\n",
        "if counties_name in nytfiles.keys():\n",
        "  us_counties_csv_nyt = nytfiles[counties_name].decode('utf-8')\n",
        "states_name = 'us-states.csv'\n",
        "if states_name in nytfiles.keys():\n",
        "  us_states_csv_nyt = nytfiles[states_name].decode('utf-8')"
      ],
      "execution_count": 0,
      "outputs": []
    },
    {
      "cell_type": "code",
      "metadata": {
        "id": "2fm-tSyVqO92",
        "colab_type": "code",
        "colab": {}
      },
      "source": [
        "data_counties_nyt = None\n",
        "if us_counties_csv_nyt:\n",
        "  data_counties_nyt = pd.read_csv(io.StringIO(us_counties_csv_nyt))\n",
        "data_states_nyt = None\n",
        "if us_states_csv_nyt:\n",
        "  data_states_nyt = pd.read_csv(io.StringIO(us_states_csv_nyt))"
      ],
      "execution_count": 0,
      "outputs": []
    },
    {
      "cell_type": "markdown",
      "metadata": {
        "id": "0SN7No62fc7X",
        "colab_type": "text"
      },
      "source": [
        "**Upload JHU files**\n",
        "\n",
        "To use JHU data, extract `time_series_covid19_confirmed_US.csv` and `time_series_covid19_deaths_US.csv` from https://github.com/CSSEGISandData/COVID-19 and upload them here."
      ]
    },
    {
      "cell_type": "code",
      "metadata": {
        "id": "HovVsHlIkumE",
        "colab_type": "code",
        "colab": {
          "resources": {
            "http://localhost:8080/nbextensions/google.colab/files.js": {
              "data": "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",
              "ok": true,
              "headers": [
                [
                  "content-type",
                  "application/javascript"
                ]
              ],
              "status": 200,
              "status_text": ""
            }
          },
          "base_uri": "https://localhost:8080/",
          "height": 109
        },
        "outputId": "4ea30dc5-1892-4b24-c2c9-8f0a38136bd6"
      },
      "source": [
        "if load_jhu:\n",
        "  jhufiles = files.upload()"
      ],
      "execution_count": 20,
      "outputs": [
        {
          "output_type": "display_data",
          "data": {
            "text/html": [
              "\n",
              "     <input type=\"file\" id=\"files-4703a07c-f545-4392-a648-c13f6abda44d\" name=\"files[]\" multiple disabled />\n",
              "     <output id=\"result-4703a07c-f545-4392-a648-c13f6abda44d\">\n",
              "      Upload widget is only available when the cell has been executed in the\n",
              "      current browser session. Please rerun this cell to enable.\n",
              "      </output>\n",
              "      <script src=\"/nbextensions/google.colab/files.js\"></script> "
            ],
            "text/plain": [
              "<IPython.core.display.HTML object>"
            ]
          },
          "metadata": {
            "tags": []
          }
        },
        {
          "output_type": "stream",
          "text": [
            "Saving time_series_covid19_deaths_US.csv to time_series_covid19_deaths_US.csv\n",
            "Saving time_series_covid19_confirmed_US.csv to time_series_covid19_confirmed_US.csv\n"
          ],
          "name": "stdout"
        }
      ]
    },
    {
      "cell_type": "code",
      "metadata": {
        "id": "vQEH1URwkYir",
        "colab_type": "code",
        "colab": {}
      },
      "source": [
        "cases_jhu = None\n",
        "deaths_jhu = None\n",
        "cases_name = 'time_series_covid19_confirmed_US.csv'\n",
        "if cases_name in jhufiles.keys():\n",
        "  cases_jhu = pd.read_csv(io.StringIO(jhufiles[cases_name].decode('utf-8')))\n",
        "deaths_name = 'time_series_covid19_deaths_US.csv'\n",
        "if deaths_name in jhufiles.keys():\n",
        "  deaths_jhu = pd.read_csv(io.StringIO(jhufiles[deaths_name].decode('utf-8')))"
      ],
      "execution_count": 0,
      "outputs": []
    },
    {
      "cell_type": "code",
      "metadata": {
        "id": "qJ0hz3vqlZkR",
        "colab_type": "code",
        "colab": {}
      },
      "source": [
        "state_names = cases_jhu['Province_State']\n",
        "county_names = cases_jhu['Admin2']\n",
        "mask_state = (state_names == 'California')\n",
        "mask_county = (county_names == 'Santa Clara')\n",
        "cases_jhu[mask_state][mask_county]['4/15/20']\n",
        "\n"
      ],
      "execution_count": 0,
      "outputs": []
    },
    {
      "cell_type": "code",
      "metadata": {
        "id": "zpxJhKPBS7Nx",
        "colab_type": "code",
        "colab": {}
      },
      "source": [
        "plot_county(data_counties_nyt, 'Santa Clara', 'California', '2020-03-17')"
      ],
      "execution_count": 0,
      "outputs": []
    },
    {
      "cell_type": "code",
      "metadata": {
        "id": "1RtIEIATTA4C",
        "colab_type": "code",
        "colab": {}
      },
      "source": [
        "plot_county(data_counties_nyt, 'Los Angeles', 'California', '2020-03-19')"
      ],
      "execution_count": 0,
      "outputs": []
    },
    {
      "cell_type": "code",
      "metadata": {
        "id": "5bfo8KoWTXUT",
        "colab_type": "code",
        "colab": {}
      },
      "source": [
        "plot_state(data_states_nyt, 'California', '2020-03-19')"
      ],
      "execution_count": 0,
      "outputs": []
    },
    {
      "cell_type": "code",
      "metadata": {
        "id": "bI64v1VuoH3M",
        "colab_type": "code",
        "colab": {}
      },
      "source": [
        "plot_state(data_states_nyt, 'Washington', '2020-03-20')"
      ],
      "execution_count": 0,
      "outputs": []
    },
    {
      "cell_type": "code",
      "metadata": {
        "id": "7RLA3BwtsUDH",
        "colab_type": "code",
        "colab": {}
      },
      "source": [
        "plot_state(data_states_nyt, 'South Dakota', '2020-04-02')"
      ],
      "execution_count": 0,
      "outputs": []
    }
  ]
}