{
  "nbformat": 4,
  "nbformat_minor": 0,
  "metadata": {
    "colab": {
      "name": "Covid.ipynb",
      "provenance": [],
      "collapsed_sections": [],
      "authorship_tag": "ABX9TyNDTncZYlj2ZGfADiwR5kpF",
      "include_colab_link": true
    },
    "kernelspec": {
      "name": "python3",
      "display_name": "Python 3"
    }
  },
  "cells": [
    {
      "cell_type": "markdown",
      "metadata": {
        "id": "view-in-github",
        "colab_type": "text"
      },
      "source": [
        "<a href=\"https://colab.research.google.com/github/trovatore/covid/blob/master/Covid.ipynb\" target=\"_parent\"><img src=\"https://colab.research.google.com/assets/colab-badge.svg\" alt=\"Open In Colab\"/></a>"
      ]
    },
    {
      "cell_type": "code",
      "metadata": {
        "id": "ePDrbEE_n8YZ",
        "colab_type": "code",
        "colab": {}
      },
      "source": [
        "from google.colab import files\n",
        "import pandas as pd\n",
        "import numpy as np\n",
        "import sys\n",
        "import io\n",
        "from datetime import datetime, timedelta\n",
        "import pytz\n",
        "import matplotlib.pyplot as plt\n",
        "from matplotlib.ticker import ScalarFormatter\n",
        "import matplotlib.patches as mpatches\n",
        "from sklearn.linear_model import LinearRegression\n",
        "# sys.version\n"
      ],
      "execution_count": 0,
      "outputs": []
    },
    {
      "cell_type": "code",
      "metadata": {
        "id": "PbL1sCvDUpMz",
        "colab_type": "code",
        "colab": {}
      },
      "source": [
        "def date_to_ordinal(date):\n",
        "  return datetime.strptime(date, '%Y-%m-%d').toordinal()\n",
        "\n",
        "def dates_to_elapsed_days(dates, zero_date):\n",
        "  zero_ordinal = date_to_ordinal(zero_date)\n",
        "  return np.array([date_to_ordinal(date) - zero_ordinal for date in dates])\n",
        "\n",
        "def find_fips_for_county(data, county, state):\n",
        "  records = data.to_dict(orient='records')\n",
        "  for record in records:\n",
        "    if record['county'] == county and record['state'] == state:\n",
        "      return int(record['fips'])\n",
        "\n",
        "def find_fips_for_state(data, state):\n",
        "  records = data.to_dict(orient='records')\n",
        "  for record in records:\n",
        "    if record['state'] == state:\n",
        "      return int(record['fips'])\n"
      ],
      "execution_count": 0,
      "outputs": []
    },
    {
      "cell_type": "code",
      "metadata": {
        "id": "oRt118NR3LEg",
        "colab_type": "code",
        "colab": {}
      },
      "source": [
        "def _do_regression(elapsed_days, data_for_place, mask, ax, color, value_name):\n",
        "  x = elapsed_days[mask].reshape(-1, 1)\n",
        "  y = data_for_place[value_name].values[mask].reshape(-1, 1)\n",
        "  lr = LinearRegression()\n",
        "  lr.fit(x, np.log2(y))\n",
        "  y_pred = lr.predict(x)\n",
        "  ax.plot(x, np.exp(np.log(2) * y_pred), color + \"-\")\n",
        "  return 1./lr.coef_[0][0]\n"
      ],
      "execution_count": 0,
      "outputs": []
    },
    {
      "cell_type": "code",
      "metadata": {
        "id": "adR2k3tKEtji",
        "colab_type": "code",
        "colab": {}
      },
      "source": [
        "regression_num_days = 5  #@param\n"
      ],
      "execution_count": 0,
      "outputs": []
    },
    {
      "cell_type": "code",
      "metadata": {
        "id": "Xok_IxEvUvyJ",
        "colab_type": "code",
        "colab": {}
      },
      "source": [
        "def plot_place(data_for_place, title, reference_date, regression_interval=None):\n",
        "  \"\"\"\n",
        "  Args:\n",
        "    data_for_place: DataSeries with data for the particular place.\n",
        "    title: Title for the plot.\n",
        "    reference_date: YYYY-MM-DD string with a date of interest (for example,\n",
        "      the start of shelter-in-place for the location).\n",
        "    regression_interval: List of two dates giving the interval to run\n",
        "      linear regression.\n",
        "  \"\"\"\n",
        "  # print('data_for_place={}'.format(data_for_place))\n",
        "\n",
        "  fig = plt.figure(figsize=(15, 10))\n",
        "  ax = fig.add_subplot(111)\n",
        "  elapsed_days = dates_to_elapsed_days(data_for_place['date'], reference_date)\n",
        "  line_cases = plt.plot(elapsed_days, data_for_place['cases'], 'bo')\n",
        "  line_deaths = plt.plot(elapsed_days, data_for_place['deaths'], 'ro')\n",
        "\n",
        "  if regression_interval is None:\n",
        "    end_date = max(data_for_place['date'])\n",
        "    start_date = (datetime.strptime(end_date, '%Y-%m-%d')\n",
        "                 - timedelta(\n",
        "                     days=regression_num_days - 1)).strftime('%Y-%m-%d')\n",
        "    regression_interval = [start_date, end_date]\n",
        "\n",
        "  title = ( \n",
        "      title + \" (curve fit from \" + regression_interval[0] + \" to \" +\n",
        "      regression_interval[1] + \")\"\n",
        "  )\n",
        "  regression_interval = dates_to_elapsed_days(regression_interval,\n",
        "                                              reference_date)\n",
        "  start_day = regression_interval[0]\n",
        "  end_day = regression_interval[1]\n",
        "  mask = (elapsed_days >= start_day) & (elapsed_days <= end_day)\n",
        "  cases_doubling_time = _do_regression(elapsed_days, data_for_place, mask,\n",
        "                                        ax, 'b', 'cases' )\n",
        "  deaths_doubling_time = _do_regression(elapsed_days, data_for_place, mask,\n",
        "                                        ax, 'r', 'deaths' )\n",
        "    \n",
        "  ax.set_ylabel('log scale')\n",
        "  ax.set_xlabel('days since {}'.format(reference_date))\n",
        "  ax.set_yscale('log')\n",
        "  ax.yaxis.set_major_formatter(ScalarFormatter())\n",
        "  ax.set_title(title)\n",
        "  if regression_interval is not None:\n",
        "    cases_label = 'cases (doubling time={:0.1f} days)'.format(cases_doubling_time)\n",
        "    deaths_label = 'deaths (doubling time={:0.1f} days)'.format(deaths_doubling_time)\n",
        "  else:\n",
        "    cases_label = 'cases'\n",
        "    deaths_label = 'deaths'\n",
        "  cases_patch = mpatches.Patch(color='blue', label=cases_label)\n",
        "  deaths_patch = mpatches.Patch(color='red', label=deaths_label)\n",
        "  ax.legend(handles=[cases_patch, deaths_patch])\n",
        "  plt.grid()  "
      ],
      "execution_count": 0,
      "outputs": []
    },
    {
      "cell_type": "code",
      "metadata": {
        "id": "QFakGrvEhD2G",
        "colab_type": "code",
        "colab": {}
      },
      "source": [
        "def plot_daily_new(data_for_place, title, reference_date):\n",
        "  \"\"\"\n",
        "  Args:\n",
        "    data_for_place: DataSeries with data for the particular place.\n",
        "    title: Title for the plot.\n",
        "    reference_date: YYYY-MM-DD string with a date of interest.\n",
        "  \"\"\"\n",
        "  fig = plt.figure(figsize=(15, 10))\n",
        "  ax = fig.add_subplot(111)\n",
        "  elapsed_days = dates_to_elapsed_days(data_for_place['date'], reference_date)\n",
        "  assert (elapsed_days == sorted(elapsed_days)).all()\n",
        "  assert elapsed_days[-1] - elapsed_days[0] + 1 == len(elapsed_days)\n",
        "  line_cases = plt.plot(\n",
        "      elapsed_days, np.diff(data_for_place['cases'], prepend=0), 'bo')\n",
        "  line_deaths = plt.plot(\n",
        "      elapsed_days, np.diff(data_for_place['deaths'], prepend=0), 'ro')\n",
        "    \n",
        "  ax.set_ylabel('log scale')\n",
        "  ax.set_xlabel('days since {}'.format(reference_date))\n",
        "  ax.set_yscale('log')\n",
        "  ax.yaxis.set_major_formatter(ScalarFormatter())\n",
        "  ax.set_title(title)\n",
        "  cases_label = 'New cases'\n",
        "  deaths_label = 'New deaths'\n",
        "  cases_patch = mpatches.Patch(color='blue', label=cases_label)\n",
        "  deaths_patch = mpatches.Patch(color='red', label=deaths_label)\n",
        "  ax.legend(handles=[cases_patch, deaths_patch])\n",
        "  plt.grid()  "
      ],
      "execution_count": 0,
      "outputs": []
    },
    {
      "cell_type": "code",
      "metadata": {
        "id": "2MzZZpBlMDi6",
        "colab_type": "code",
        "colab": {}
      },
      "source": [
        "def _get_new_and_intercept(events):\n",
        "  events_new = np.diff(events, prepend=0)\n",
        "  mask = (events_new > 0)\n",
        "  events_new_censored = events_new[mask]\n",
        "  events_censored = events[mask]\n",
        "  log_10_intercept = np.mean(np.log10(events_new_censored) -\n",
        "                             np.log10(events_censored))\n",
        "  return events_new, 10. ** log_10_intercept\n"
      ],
      "execution_count": 0,
      "outputs": []
    },
    {
      "cell_type": "code",
      "metadata": {
        "colab_type": "code",
        "id": "-8ySoPfwjYLX",
        "colab": {}
      },
      "source": [
        "def plot_new_versus_cumulative(data_for_place, title, reference_date):\n",
        "  \"\"\"\n",
        "  Args:\n",
        "    data_for_place: DataSeries with data for the particular place.\n",
        "    title: Title for the plot.\n",
        "    reference_date: YYYY-MM-DD string with a date of interest.\n",
        "    regression_interval: List of two dates giving the interval to run\n",
        "      linear regression.\n",
        "  \"\"\"\n",
        "  fig = plt.figure(figsize=(15, 10))\n",
        "  ax = fig.add_subplot(111)\n",
        "  cases = data_for_place['cases']\n",
        "  deaths = data_for_place['deaths']\n",
        "  cases_new, cases_intercept = _get_new_and_intercept(data_for_place['cases'])\n",
        "  deaths_new, deaths_intercept = _get_new_and_intercept(\n",
        "      data_for_place['deaths'])\n",
        "  line_cases = plt.plot(cases, cases_new, 'bo')\n",
        "  line_deaths = plt.plot(deaths, deaths_new, 'ro')\n",
        "\n",
        "  cases_above_10 = cases[cases >= 10]\n",
        "  plt.plot(cases_above_10, cases_above_10 * cases_intercept, 'b--')\n",
        "  deaths_above_10 = deaths[deaths >= 10]\n",
        "  plt.plot(deaths_above_10, deaths_above_10 * deaths_intercept, 'r--')\n",
        "    \n",
        "  ax.set_ylabel('new')\n",
        "  ax.set_xlabel('cumulative')\n",
        "  ax.set_yscale('log')\n",
        "  ax.set_xscale('log')\n",
        "  ax.xaxis.set_major_formatter(ScalarFormatter())\n",
        "  ax.yaxis.set_major_formatter(ScalarFormatter())\n",
        "  ax.set_title(title)\n",
        "  cases_label = 'cases'\n",
        "  deaths_label = 'deaths'\n",
        "  cases_patch = mpatches.Patch(color='blue', label=cases_label)\n",
        "  deaths_patch = mpatches.Patch(color='red', label=deaths_label)\n",
        "  ax.legend(handles=[cases_patch, deaths_patch])\n",
        "  ax.set_aspect('equal')\n",
        "  plt.grid()  "
      ],
      "execution_count": 0,
      "outputs": []
    },
    {
      "cell_type": "code",
      "metadata": {
        "id": "qVSsZsNOkb1a",
        "colab_type": "code",
        "colab": {}
      },
      "source": [
        "def _get_jhu_data_for_county(data, county, state):\n",
        "  state_names = data['Province_State']\n",
        "  county_names = data['Admin2']\n",
        "  mask_state = (state_names == state)\n",
        "  mask_county = (county_names == county)\n",
        "  county_dict = data[mask_state][mask_county].to_dict(orient='records')\n",
        "  assert(len(county_dict) == 1)\n",
        "  county_dict = county_dict[0]\n",
        "  reformatted_dict = {}\n",
        "  for key, value in county_dict.items():\n",
        "    if str(key[0]).isnumeric():\n",
        "      date = datetime.strptime(key, '%m/%d/%y').strftime('%Y-%m-%d')\n",
        "      reformatted_dict[date] = value\n",
        "  return reformatted_dict\n",
        "\n",
        "def _get_data_for_county(county, state, use_nyt=True):\n",
        "  if use_nyt:\n",
        "    fips = find_fips_for_county(data_counties_nyt, county, state)\n",
        "    return data_counties_nyt[data_counties_nyt['fips']==fips]\n",
        "  else:\n",
        "    cases = _get_jhu_data_for_county(cases_jhu, county, state)\n",
        "    deaths = _get_jhu_data_for_county(deaths_jhu, county, state)\n",
        "    cases_dates = set(cases.keys())\n",
        "    deaths_dates = set(deaths.keys())\n",
        "    assert cases_dates == deaths_dates\n",
        "    dates = dict([(date, date) for date in cases.keys()])\n",
        "    # return pd.DataFrame([dates, cases, deaths], index=['date', 'cases', 'deaths']).T\n",
        "    cases_series = pd.Series(cases, dtype=float, name='cases')\n",
        "    deaths_series = pd.Series(deaths, dtype=float, name='deaths')\n",
        "    dates_series = pd.Series(dates, name='date')\n",
        "    return pd.concat([dates_series, cases_series, deaths_series], axis=1)\n",
        "\n",
        "\n",
        "    "
      ],
      "execution_count": 0,
      "outputs": []
    },
    {
      "cell_type": "code",
      "metadata": {
        "id": "YKR2XeBVk0Kk",
        "colab_type": "code",
        "colab": {}
      },
      "source": [
        "def _get_data_for_state(state, use_nyt=True):\n",
        "  if use_nyt:\n",
        "    fips = find_fips_for_state(data_states_nyt, state)\n",
        "    return data_states_nyt[data_states_nyt['fips']==fips]"
      ],
      "execution_count": 0,
      "outputs": []
    },
    {
      "cell_type": "code",
      "metadata": {
        "id": "SiMsKiCeU1pJ",
        "colab_type": "code",
        "colab": {}
      },
      "source": [
        "def plot_county(county, state, reference_date,\n",
        "                use_nyt=True,\n",
        "                regression_interval=None):\n",
        "  data_county = _get_data_for_county(county, state, use_nyt)\n",
        "  data_source = 'NYT' if use_nyt else 'JHU'\n",
        "  title = (\n",
        "      '{} County, {} ({} data)'.format(county, state, data_source)\n",
        "  )\n",
        "  plot_place(data_county, title, reference_date, regression_interval)\n",
        "  plot_daily_new(data_county, title, reference_date)\n",
        "  plot_new_versus_cumulative(data_county, title, reference_date)\n"
      ],
      "execution_count": 0,
      "outputs": []
    },
    {
      "cell_type": "code",
      "metadata": {
        "id": "UEozcjUynb55",
        "colab_type": "code",
        "colab": {}
      },
      "source": [
        "def plot_state(state, reference_date, use_nyt=True, regression_interval=None):\n",
        "  data_state = _get_data_for_state(state, use_nyt)\n",
        "  data_source = 'NYT' if use_nyt else 'JHU'\n",
        "  title = 'State of {} ({} data)'.format(state, data_source)\n",
        "  plot_place(data_state, title, reference_date, regression_interval)\n",
        "  plot_daily_new(data_state, title, reference_date)\n",
        "  plot_new_versus_cumulative(data_state, title, reference_date)"
      ],
      "execution_count": 0,
      "outputs": []
    },
    {
      "cell_type": "code",
      "metadata": {
        "id": "O4PmesTbdJnz",
        "colab_type": "code",
        "colab": {}
      },
      "source": [
        "#@title Flags for what to load\n",
        "\n",
        "load_nyt = True  #@param\n",
        "load_jhu = True  #@param"
      ],
      "execution_count": 0,
      "outputs": []
    },
    {
      "cell_type": "markdown",
      "metadata": {
        "id": "MiDme4-RoaeF",
        "colab_type": "text"
      },
      "source": [
        "**Upload  NYT files**\n",
        "\n",
        "To use NYT data, download `us-states.csv` and `us-counties.csv` from https://github.com/nytimes/covid-19-data and upload them here.\n"
      ]
    },
    {
      "cell_type": "code",
      "metadata": {
        "id": "2RGnljs1pm5S",
        "colab_type": "code",
        "colab": {}
      },
      "source": [
        "us_counties_csv_nyt = None\n",
        "us_states_csv_nyt = None\n",
        "data_counties_nyt = None\n",
        "data_states_nyt = None\n",
        "\n",
        "if load_nyt:\n",
        "  nytfiles = files.upload()\n",
        "  counties_name = 'us-counties.csv'\n",
        "  if counties_name in nytfiles.keys():\n",
        "    us_counties_csv_nyt = nytfiles[counties_name].decode('utf-8')\n",
        "    data_counties_nyt = pd.read_csv(io.StringIO(us_counties_csv_nyt))\n",
        "  states_name = 'us-states.csv'\n",
        "  if states_name in nytfiles.keys():\n",
        "    us_states_csv_nyt = nytfiles[states_name].decode('utf-8')\n",
        "    data_states_nyt = pd.read_csv(io.StringIO(us_states_csv_nyt))"
      ],
      "execution_count": 0,
      "outputs": []
    },
    {
      "cell_type": "markdown",
      "metadata": {
        "id": "0SN7No62fc7X",
        "colab_type": "text"
      },
      "source": [
        "**Upload JHU files**\n",
        "\n",
        "To use JHU data, extract `time_series_covid19_confirmed_global.csv` and `time_series_covid19_deaths_global.csv` from https://github.com/CSSEGISandData/COVID-19 and upload them here.  If you are planning to analyze only US places, you can save time by uploading `time_series_covid19_confirmed_US.csv` and `time_series_covid19_deaths_US.csv` instead."
      ]
    },
    {
      "cell_type": "code",
      "metadata": {
        "id": "HovVsHlIkumE",
        "colab_type": "code",
        "colab": {}
      },
      "source": [
        "cases_jhu = None\n",
        "deaths_jhu = None\n",
        "\n",
        "if load_jhu:\n",
        "  jhufiles = files.upload()\n",
        "  cases_name_us = 'time_series_covid19_confirmed_US.csv'\n",
        "  cases_name_global = 'time_series_covid19_confirmed_global.csv\n",
        "  if cases_name_global in jhufiles.keys():\n",
        "    cases_jhu = pd.read_csv(io.StringIO(\n",
        "        jhufiles[cases_name_global].decode('utf-8')))\n",
        "  elif cases_name_us in jhufiles.keys():\n",
        "    cases_jhu = pd.read_csv(io.StringIO(\n",
        "        jhufiles[cases_name_us].decode('utf-8')))\n",
        "  deaths_name_us = 'time_series_covid19_deaths_US.csv'\n",
        "  deaths_name_global = 'time_series_covid19_deaths_global.csv'\n",
        "  if deaths_name_global in jhufiles.keys():\n",
        "    deaths_jhu = pd.read_csv(io.StringIO(\n",
        "        jhufiles[deaths_name_global].decode('utf-8')))\n",
        "  elif deaths_name_us in jhufiles.keys():\n",
        "    deaths_jhu = pd.read_csv(io.StringIO(\n",
        "        jhufiles[deaths_name_us].decode('utf-8')))\n"
      ],
      "execution_count": 0,
      "outputs": []
    },
    {
      "cell_type": "code",
      "metadata": {
        "id": "zpxJhKPBS7Nx",
        "colab_type": "code",
        "colab": {}
      },
      "source": [
        "plot_county('Santa Clara', 'California', '2020-03-17', use_nyt=False)"
      ],
      "execution_count": 0,
      "outputs": []
    },
    {
      "cell_type": "code",
      "metadata": {
        "id": "1RtIEIATTA4C",
        "colab_type": "code",
        "colab": {}
      },
      "source": [
        "plot_county('Los Angeles', 'California', '2020-03-19')"
      ],
      "execution_count": 0,
      "outputs": []
    },
    {
      "cell_type": "code",
      "metadata": {
        "id": "5bfo8KoWTXUT",
        "colab_type": "code",
        "colab": {}
      },
      "source": [
        "plot_state('California', '2020-03-19')"
      ],
      "execution_count": 0,
      "outputs": []
    },
    {
      "cell_type": "code",
      "metadata": {
        "id": "bI64v1VuoH3M",
        "colab_type": "code",
        "colab": {}
      },
      "source": [
        "plot_state('Washington', '2020-03-20')"
      ],
      "execution_count": 0,
      "outputs": []
    },
    {
      "cell_type": "code",
      "metadata": {
        "id": "7RLA3BwtsUDH",
        "colab_type": "code",
        "colab": {}
      },
      "source": [
        "plot_state('South Dakota', '2020-04-02')"
      ],
      "execution_count": 0,
      "outputs": []
    }
  ]
}